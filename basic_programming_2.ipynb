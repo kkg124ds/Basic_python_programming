{
 "cells": [
  {
   "cell_type": "code",
   "execution_count": 1,
   "metadata": {},
   "outputs": [
    {
     "name": "stdout",
     "output_type": "stream",
     "text": [
      "Enter the distance in kilometers: 1\n",
      "1.0 kilometers is equal to 0.621371 miles\n"
     ]
    }
   ],
   "source": [
    "## Q1.Write a Python program to convert kilometers to miles?\n",
    "\n",
    "kilometers = float(input(\"Enter the distance in kilometers: \"))\n",
    "\n",
    "# conversion factor\n",
    "conv_factor = 0.621371\n",
    "\n",
    "# calculate miles\n",
    "miles = kilometers * conv_factor\n",
    "\n",
    "print(kilometers, \"kilometers is equal to\", miles, \"miles\")\n"
   ]
  },
  {
   "cell_type": "code",
   "execution_count": 2,
   "metadata": {},
   "outputs": [
    {
     "name": "stdout",
     "output_type": "stream",
     "text": [
      "Enter temperature in Celsius: 37\n",
      "37.0 degrees Celsius is equal to 98.60000000000001 degrees Fahrenheit\n"
     ]
    }
   ],
   "source": [
    "## Q2.Write a Python program to convert Celsius to Fahrenheit?\n",
    "\n",
    "celsius = float(input(\"Enter temperature in Celsius: \"))\n",
    "\n",
    "# calculate Fahrenheit\n",
    "fahrenheit = (celsius * 1.8) + 32\n",
    "\n",
    "print(celsius, \"degrees Celsius is equal to\", fahrenheit, \"degrees Fahrenheit\")\n"
   ]
  },
  {
   "cell_type": "code",
   "execution_count": 3,
   "metadata": {},
   "outputs": [
    {
     "name": "stdout",
     "output_type": "stream",
     "text": [
      "Enter the year: 2023\n",
      "Enter the month: 1\n",
      "    January 2023\n",
      "Mo Tu We Th Fr Sa Su\n",
      "                   1\n",
      " 2  3  4  5  6  7  8\n",
      " 9 10 11 12 13 14 15\n",
      "16 17 18 19 20 21 22\n",
      "23 24 25 26 27 28 29\n",
      "30 31\n",
      "\n"
     ]
    }
   ],
   "source": [
    "## Q3.Write a Python program to display calendar?\n",
    "\n",
    "import calendar\n",
    "\n",
    "# Enter the month and year\n",
    "year = int(input(\"Enter the year: \"))\n",
    "month = int(input(\"Enter the month: \"))\n",
    "\n",
    "# Display calendar\n",
    "print(calendar.month(year, month))\n"
   ]
  },
  {
   "cell_type": "code",
   "execution_count": 4,
   "metadata": {},
   "outputs": [
    {
     "name": "stdout",
     "output_type": "stream",
     "text": [
      "Enter the coefficient of x^2: 3\n",
      "Enter the coefficient of x: 2\n",
      "Enter the constant: 2\n",
      "The solutions are (-0.3333333333333333-0.7453559924999299j) and (-0.3333333333333333+0.7453559924999299j)\n"
     ]
    }
   ],
   "source": [
    "## Q4.Write a Python program to solve quadratic equation?\n",
    "\n",
    "import cmath\n",
    "\n",
    "a = float(input(\"Enter the coefficient of x^2: \"))\n",
    "b = float(input(\"Enter the coefficient of x: \"))\n",
    "c = float(input(\"Enter the constant: \"))\n",
    "\n",
    "# calculate the discriminant\n",
    "discriminant = (b ** 2) - (4 * a * c)\n",
    "\n",
    "# find two solutions\n",
    "sol1 = (-b - cmath.sqrt(discriminant)) / (2 * a)\n",
    "sol2 = (-b + cmath.sqrt(discriminant)) / (2 * a)\n",
    "\n",
    "print(\"The solutions are {0} and {1}\".format(sol1, sol2))\n"
   ]
  },
  {
   "cell_type": "code",
   "execution_count": 5,
   "metadata": {},
   "outputs": [
    {
     "name": "stdout",
     "output_type": "stream",
     "text": [
      "Before swapping: a = 10 and b = 5\n",
      "After swapping: a = 5 and b = 10\n"
     ]
    }
   ],
   "source": [
    "## Q5.Write a Python program to swap two variables without temp variable?\n",
    "a = 10\n",
    "b = 5\n",
    "\n",
    "print(\"Before swapping: a =\", a, \"and b =\", b)\n",
    "\n",
    "# Swapping without using a temporary variable\n",
    "a, b = b, a\n",
    "\n",
    "print(\"After swapping: a =\", a, \"and b =\", b)\n"
   ]
  },
  {
   "cell_type": "code",
   "execution_count": null,
   "metadata": {},
   "outputs": [],
   "source": []
  },
  {
   "cell_type": "code",
   "execution_count": null,
   "metadata": {},
   "outputs": [],
   "source": []
  }
 ],
 "metadata": {
  "kernelspec": {
   "display_name": "Python 3",
   "language": "python",
   "name": "python3"
  },
  "language_info": {
   "codemirror_mode": {
    "name": "ipython",
    "version": 3
   },
   "file_extension": ".py",
   "mimetype": "text/x-python",
   "name": "python",
   "nbconvert_exporter": "python",
   "pygments_lexer": "ipython3",
   "version": "3.6.5"
  }
 },
 "nbformat": 4,
 "nbformat_minor": 2
}
