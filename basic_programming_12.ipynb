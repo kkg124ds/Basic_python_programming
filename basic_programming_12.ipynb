{
 "cells": [
  {
   "cell_type": "code",
   "execution_count": 1,
   "metadata": {},
   "outputs": [
    {
     "name": "stdout",
     "output_type": "stream",
     "text": [
      "Unique values: [1, 2, 3, 4, 5]\n"
     ]
    }
   ],
   "source": [
    "## Q1.Write a Python program to Extract Unique values dictionary values?\n",
    "\n",
    "def extract_unique_values(dictionary):\n",
    "    unique_values = set()\n",
    "    for values in dictionary.values():\n",
    "        unique_values.update(values)\n",
    "    return list(unique_values)\n",
    "\n",
    "input_dict = {'a': [1, 2, 3], 'b': [2, 3, 4], 'c': [3, 4, 5]}\n",
    "unique_values = extract_unique_values(input_dict)\n",
    "print(\"Unique values:\", unique_values)\n"
   ]
  },
  {
   "cell_type": "code",
   "execution_count": 4,
   "metadata": {},
   "outputs": [
    {
     "name": "stdout",
     "output_type": "stream",
     "text": [
      "Sum of dictionary values: 45\n"
     ]
    }
   ],
   "source": [
    "## Q2.Write a Python program to find the sum of all items in a dictionary?\n",
    "\n",
    "def sum_dictionary_values(dictionary):\n",
    "    total = 0\n",
    "    for value in dictionary.values():\n",
    "        total += value\n",
    "    return total\n",
    "\n",
    "input_dict = {'a': 10, 'b': 20, 'c': 15}\n",
    "\n",
    "total_sum = sum_dictionary_values(input_dict)\n",
    "print(\"Sum of dictionary values:\", total_sum)\n"
   ]
  },
  {
   "cell_type": "code",
   "execution_count": 5,
   "metadata": {},
   "outputs": [
    {
     "name": "stdout",
     "output_type": "stream",
     "text": [
      "Merged dictionary: {'a': 1, 'b': 2, 'c': 3, 'd': 4}\n"
     ]
    }
   ],
   "source": [
    "## Q3.Write a Python program to Merging two Dictionaries?\n",
    "\n",
    "def merge_dictionaries(dict1, dict2):\n",
    "    merged_dict = {**dict1, **dict2}\n",
    "    return merged_dict\n",
    "\n",
    "dict1 = {'a': 1, 'b': 2}\n",
    "dict2 = {'c': 3, 'd': 4}\n",
    "\n",
    "merged_dict = merge_dictionaries(dict1, dict2)\n",
    "print(\"Merged dictionary:\", merged_dict)\n"
   ]
  },
  {
   "cell_type": "code",
   "execution_count": 6,
   "metadata": {},
   "outputs": [
    {
     "name": "stdout",
     "output_type": "stream",
     "text": [
      "Flat dictionary: {'a': 1, 'b': 2, 'c': 3}\n"
     ]
    }
   ],
   "source": [
    "## Q4.Write a Python program to convert key-values list to flat dictionary?\n",
    "\n",
    "def convert_to_flat_dictionary(keys, values):\n",
    "    flat_dict = dict(zip(keys, values))\n",
    "    return flat_dict\n",
    "\n",
    "keys = ['a', 'b', 'c']\n",
    "values = [1, 2, 3]\n",
    "\n",
    "flat_dictionary = convert_to_flat_dictionary(keys, values)\n",
    "print(\"Flat dictionary:\", flat_dictionary)\n"
   ]
  },
  {
   "cell_type": "code",
   "execution_count": 7,
   "metadata": {},
   "outputs": [
    {
     "name": "stdout",
     "output_type": "stream",
     "text": [
      "OrderedDict before insertion: OrderedDict([('a', 1), ('b', 2), ('c', 3)])\n",
      "OrderedDict after insertion: OrderedDict([('d', 4), ('a', 1), ('b', 2), ('c', 3)])\n"
     ]
    }
   ],
   "source": [
    "## Q5.Write a Python program to insertion at the beginning in OrderedDict?\n",
    "\n",
    "from collections import OrderedDict\n",
    "\n",
    "def insert_at_beginning(ordered_dict, key, value):\n",
    "    ordered_dict[key] = value\n",
    "    ordered_dict.move_to_end(key, last=False)\n",
    "\n",
    "ordered_dict = OrderedDict([('a', 1), ('b', 2), ('c', 3)])\n",
    "print(\"OrderedDict before insertion:\", ordered_dict)\n",
    "\n",
    "insert_at_beginning(ordered_dict, 'd', 4)\n",
    "print(\"OrderedDict after insertion:\", ordered_dict)\n"
   ]
  },
  {
   "cell_type": "code",
   "execution_count": 8,
   "metadata": {},
   "outputs": [
    {
     "name": "stdout",
     "output_type": "stream",
     "text": [
      "The pattern appears in order in the string.\n"
     ]
    }
   ],
   "source": [
    "## Q6.Write a Python program to check order of character in string using OrderedDict()?\n",
    "\n",
    "from collections import OrderedDict\n",
    "\n",
    "def check_order_of_characters(string, pattern):\n",
    "    ordered_dict = OrderedDict.fromkeys(string)\n",
    "    pattern_index = 0\n",
    "    for char in ordered_dict:\n",
    "        if char == pattern[pattern_index]:\n",
    "            pattern_index += 1\n",
    "        if pattern_index == len(pattern):\n",
    "            return True\n",
    "    return False\n",
    "\n",
    "input_string = \"Hello, World!\"\n",
    "input_pattern = \"lo\"\n",
    "\n",
    "if check_order_of_characters(input_string, input_pattern):\n",
    "    print(\"The pattern appears in order in the string.\")\n",
    "else:\n",
    "    print(\"The pattern does not appear in order in the string.\")\n",
    "\n"
   ]
  },
  {
   "cell_type": "code",
   "execution_count": 21,
   "metadata": {},
   "outputs": [
    {
     "name": "stdout",
     "output_type": "stream",
     "text": [
      "Sorted by key: {'a': 1, 'b': 3, 'c': 2, 'd': 4}\n",
      "Sorted by value: {'a': 1, 'c': 2, 'b': 3, 'd': 4}\n"
     ]
    }
   ],
   "source": [
    "## Q7.Write a Python program to sort Python Dictionaries by Key or Value?\n",
    "\n",
    "\n",
    "def sort_dictionary(dictionary, by_key=True):\n",
    "    if by_key:\n",
    "        sorted_dict = dict(sorted(dictionary.items()))\n",
    "    else:\n",
    "        sorted_dict = dict(sorted(dictionary.items(), key=lambda item: item[1]))\n",
    "    return sorted_dict\n",
    "\n",
    "input_dict = {'b': 3, 'a': 1, 'd': 4, 'c': 2}\n",
    "\n",
    "sorted_by_key = sort_dictionary(input_dict, by_key=True)\n",
    "print(\"Sorted by key:\", sorted_by_key)\n",
    "\n",
    "sorted_by_value = sort_dictionary(input_dict, by_key=False)\n",
    "print(\"Sorted by value:\", sorted_by_value)\n"
   ]
  },
  {
   "cell_type": "code",
   "execution_count": null,
   "metadata": {},
   "outputs": [],
   "source": []
  },
  {
   "cell_type": "code",
   "execution_count": null,
   "metadata": {},
   "outputs": [],
   "source": []
  },
  {
   "cell_type": "code",
   "execution_count": null,
   "metadata": {},
   "outputs": [],
   "source": []
  },
  {
   "cell_type": "code",
   "execution_count": null,
   "metadata": {},
   "outputs": [],
   "source": []
  },
  {
   "cell_type": "code",
   "execution_count": null,
   "metadata": {},
   "outputs": [],
   "source": []
  }
 ],
 "metadata": {
  "kernelspec": {
   "display_name": "Python 3",
   "language": "python",
   "name": "python3"
  },
  "language_info": {
   "codemirror_mode": {
    "name": "ipython",
    "version": 3
   },
   "file_extension": ".py",
   "mimetype": "text/x-python",
   "name": "python",
   "nbconvert_exporter": "python",
   "pygments_lexer": "ipython3",
   "version": "3.6.5"
  }
 },
 "nbformat": 4,
 "nbformat_minor": 2
}
