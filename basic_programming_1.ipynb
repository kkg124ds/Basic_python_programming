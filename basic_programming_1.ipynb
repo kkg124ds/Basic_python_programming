{
 "cells": [
  {
   "cell_type": "code",
   "execution_count": 1,
   "metadata": {},
   "outputs": [
    {
     "name": "stdout",
     "output_type": "stream",
     "text": [
      "Hello Python\n"
     ]
    }
   ],
   "source": [
    "## Q1.Write a Python program to print \"Hello Python\"?\n",
    "\n",
    "print(\"Hello Python\")"
   ]
  },
  {
   "cell_type": "code",
   "execution_count": 2,
   "metadata": {},
   "outputs": [
    {
     "name": "stdout",
     "output_type": "stream",
     "text": [
      "The sum of a and b is 15\n",
      "The division of x and y is 4.0\n"
     ]
    }
   ],
   "source": [
    "## Q2.Write a Python program to do arithmetical operations addition and division.?\n",
    "\n",
    "# Addition\n",
    "a = 5\n",
    "b = 10\n",
    "c = a + b\n",
    "print(\"The sum of a and b is\", c)\n",
    "\n",
    "# Division\n",
    "x = 20\n",
    "y = 5\n",
    "z = x / y\n",
    "print(\"The division of x and y is\", z)\n"
   ]
  },
  {
   "cell_type": "code",
   "execution_count": 3,
   "metadata": {},
   "outputs": [
    {
     "name": "stdout",
     "output_type": "stream",
     "text": [
      "Enter the base of the triangle: 4\n",
      "Enter the height of the triangle: 9\n",
      "The area of the triangle is: 18.0\n"
     ]
    }
   ],
   "source": [
    "## Q3.Write a Python program to find the area of a triangle?\n",
    "\n",
    "base = float(input(\"Enter the base of the triangle: \"))\n",
    "height = float(input(\"Enter the height of the triangle: \"))\n",
    "\n",
    "# Calculate area of triangle\n",
    "area = 0.5 * base * height\n",
    "\n",
    "print(\"The area of the triangle is:\", area)\n"
   ]
  },
  {
   "cell_type": "code",
   "execution_count": 4,
   "metadata": {},
   "outputs": [
    {
     "name": "stdout",
     "output_type": "stream",
     "text": [
      "Before swapping: a = 10 and b = 5\n",
      "After swapping: a = 5 and b = 10\n"
     ]
    }
   ],
   "source": [
    "## Q4.Write a Python program to swap two variables?\n",
    "\n",
    "a = 10\n",
    "b = 5\n",
    "\n",
    "print(\"Before swapping: a =\", a, \"and b =\", b)\n",
    "\n",
    "# Swapping\n",
    "temp = a\n",
    "a = b\n",
    "b = temp\n",
    "\n",
    "print(\"After swapping: a =\", a, \"and b =\", b)\n"
   ]
  },
  {
   "cell_type": "code",
   "execution_count": 5,
   "metadata": {},
   "outputs": [
    {
     "name": "stdout",
     "output_type": "stream",
     "text": [
      "Random number: 39\n"
     ]
    }
   ],
   "source": [
    "## Q5.Write a Python program to generate a random number?\n",
    "\n",
    "import random\n",
    "\n",
    "# Generate a random number between 1 and 100\n",
    "random_num = random.randint(1, 100)\n",
    "\n",
    "print(\"Random number:\", random_num)\n"
   ]
  },
  {
   "cell_type": "code",
   "execution_count": null,
   "metadata": {},
   "outputs": [],
   "source": []
  },
  {
   "cell_type": "code",
   "execution_count": null,
   "metadata": {},
   "outputs": [],
   "source": []
  }
 ],
 "metadata": {
  "kernelspec": {
   "display_name": "Python 3",
   "language": "python",
   "name": "python3"
  },
  "language_info": {
   "codemirror_mode": {
    "name": "ipython",
    "version": 3
   },
   "file_extension": ".py",
   "mimetype": "text/x-python",
   "name": "python",
   "nbconvert_exporter": "python",
   "pygments_lexer": "ipython3",
   "version": "3.6.5"
  }
 },
 "nbformat": 4,
 "nbformat_minor": 2
}
