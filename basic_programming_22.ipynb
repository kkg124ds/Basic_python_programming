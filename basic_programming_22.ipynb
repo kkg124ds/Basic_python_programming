{
 "cells": [
  {
   "cell_type": "code",
   "execution_count": 1,
   "metadata": {},
   "outputs": [
    {
     "name": "stdout",
     "output_type": "stream",
     "text": [
      "[3, 6, 9]\n",
      "[8]\n",
      "[]\n"
     ]
    }
   ],
   "source": [
    "## Q1.\n",
    "\n",
    "def list_operation(x, y, n):\n",
    "    result = []\n",
    "    for i in range(x, y+1):\n",
    "        if i % n == 0:\n",
    "            result.append(i)\n",
    "    return result\n",
    "\n",
    "# Examples\n",
    "print(list_operation(1, 10, 3))  \n",
    "print(list_operation(7, 9, 2))  \n",
    "print(list_operation(15, 20, 7))  \n"
   ]
  },
  {
   "cell_type": "code",
   "execution_count": null,
   "metadata": {},
   "outputs": [],
   "source": []
  },
  {
   "cell_type": "code",
   "execution_count": 2,
   "metadata": {},
   "outputs": [
    {
     "name": "stdout",
     "output_type": "stream",
     "text": [
      "True\n",
      "False\n",
      "True\n",
      "False\n"
     ]
    }
   ],
   "source": [
    "## Q2.\n",
    "\n",
    "def simon_says(list1, list2):\n",
    "    return list1[:-1] == list2[1:]\n",
    "\n",
    "# Examples\n",
    "print(simon_says([1, 2], [5, 1]))  \n",
    "print(simon_says([1, 2], [5, 5]))  \n",
    "print(simon_says([1, 2, 3, 4, 5], [0, 1, 2, 3, 4]))  \n",
    "print(simon_says([1, 2, 3, 4, 5], [5, 5, 1, 2, 3]))  \n"
   ]
  },
  {
   "cell_type": "code",
   "execution_count": null,
   "metadata": {},
   "outputs": [],
   "source": []
  },
  {
   "cell_type": "code",
   "execution_count": 3,
   "metadata": {},
   "outputs": [
    {
     "name": "stdout",
     "output_type": "stream",
     "text": [
      "AMS\n",
      "CHLN\n",
      "CJMPRR\n"
     ]
    }
   ],
   "source": [
    "## Q3.\n",
    "\n",
    "def society_name(names):\n",
    "    return ''.join(sorted(name[0] for name in names))\n",
    "\n",
    "# Examples\n",
    "print(society_name([\"Adam\", \"Sarah\", \"Malcolm\"]))  \n",
    "print(society_name([\"Harry\", \"Newt\", \"Luna\", \"Cho\"])) \n",
    "print(society_name([\"Phoebe\", \"Chandler\", \"Rachel\", \"Ross\", \"Monica\", \"Joey\"]))  \n"
   ]
  },
  {
   "cell_type": "code",
   "execution_count": null,
   "metadata": {},
   "outputs": [],
   "source": []
  },
  {
   "cell_type": "code",
   "execution_count": 4,
   "metadata": {},
   "outputs": [
    {
     "name": "stdout",
     "output_type": "stream",
     "text": [
      "True\n",
      "False\n",
      "False\n"
     ]
    }
   ],
   "source": [
    "## Q4.\n",
    "\n",
    "def is_isogram(string):\n",
    "    string = string.lower()\n",
    "    return len(set(string)) == len(string)\n",
    "\n",
    "# Examples\n",
    "print(is_isogram(\"Algorism\"))  \n",
    "print(is_isogram(\"PasSword\")) \n",
    "print(is_isogram(\"Consecutive\"))  \n"
   ]
  },
  {
   "cell_type": "code",
   "execution_count": null,
   "metadata": {},
   "outputs": [],
   "source": []
  },
  {
   "cell_type": "code",
   "execution_count": 5,
   "metadata": {},
   "outputs": [
    {
     "name": "stdout",
     "output_type": "stream",
     "text": [
      "True\n",
      "False\n",
      "True\n",
      "True\n"
     ]
    }
   ],
   "source": [
    "## Q5.\n",
    "\n",
    "def is_in_order(string):\n",
    "    return list(string) == sorted(string)\n",
    "\n",
    "# Examples\n",
    "print(is_in_order(\"abc\"))  \n",
    "print(is_in_order(\"edabit\"))  \n",
    "print(is_in_order(\"123\"))  \n",
    "print(is_in_order(\"xyzz\"))  \n"
   ]
  },
  {
   "cell_type": "code",
   "execution_count": null,
   "metadata": {},
   "outputs": [],
   "source": []
  }
 ],
 "metadata": {
  "kernelspec": {
   "display_name": "Python 3",
   "language": "python",
   "name": "python3"
  },
  "language_info": {
   "codemirror_mode": {
    "name": "ipython",
    "version": 3
   },
   "file_extension": ".py",
   "mimetype": "text/x-python",
   "name": "python",
   "nbconvert_exporter": "python",
   "pygments_lexer": "ipython3",
   "version": "3.6.5"
  }
 },
 "nbformat": 4,
 "nbformat_minor": 2
}
