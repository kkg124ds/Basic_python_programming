{
 "cells": [
  {
   "cell_type": "code",
   "execution_count": 3,
   "metadata": {},
   "outputs": [
    {
     "name": "stdout",
     "output_type": "stream",
     "text": [
      "Sum of the array is: 17\n"
     ]
    }
   ],
   "source": [
    "## Q1.Write a Python Program to find sum of array?\n",
    "\n",
    "def sum_array(arr):\n",
    "    sum = 0\n",
    "    for num in arr:\n",
    "        sum += num\n",
    "    return sum\n",
    "\n",
    "# Example \n",
    "array = [1, 2, 5,9]\n",
    "result = sum_array(array)\n",
    "print(\"Sum of the array is:\", result)\n"
   ]
  },
  {
   "cell_type": "code",
   "execution_count": 5,
   "metadata": {},
   "outputs": [
    {
     "name": "stdout",
     "output_type": "stream",
     "text": [
      "The largest element in the array is: 56\n"
     ]
    }
   ],
   "source": [
    "## Q2.Write a Python Program to find largest element in an array?\n",
    "\n",
    "def find_largest_element(arr):\n",
    "    if len(arr) == 0:\n",
    "        return None\n",
    "    largest = arr[0]\n",
    "    for num in arr:\n",
    "        if num > largest:\n",
    "            largest = num\n",
    "    return largest\n",
    "\n",
    "# Example \n",
    "array = [12, 45, 23, 56]\n",
    "result = find_largest_element(array)\n",
    "print(\"The largest element in the array is:\", result)\n"
   ]
  },
  {
   "cell_type": "code",
   "execution_count": 7,
   "metadata": {},
   "outputs": [
    {
     "name": "stdout",
     "output_type": "stream",
     "text": [
      "Array after rotation: [3, 4, 5, 1, 2]\n"
     ]
    }
   ],
   "source": [
    "## Q3.Write a Python Program for array rotation?\n",
    "\n",
    "def rotate_array(arr, rotations):\n",
    "    if len(arr) == 0:\n",
    "        return arr\n",
    "    rotations %= len(arr)\n",
    "    rotated_arr = arr[rotations:] + arr[:rotations]\n",
    "    return rotated_arr\n",
    "\n",
    "# Example \n",
    "array = [1, 2, 3, 4, 5]\n",
    "num_rotations = 2\n",
    "result = rotate_array(array, num_rotations)\n",
    "print(\"Array after rotation:\", result)\n"
   ]
  },
  {
   "cell_type": "code",
   "execution_count": 8,
   "metadata": {},
   "outputs": [
    {
     "name": "stdout",
     "output_type": "stream",
     "text": [
      "Array after splitting and adding the first part to the end: [3, 4, 5, 1, 2]\n"
     ]
    }
   ],
   "source": [
    "## Q4.Write a Python Program to Split the array and add the first part to the end?\n",
    "\n",
    "def split_array(arr, split_index):\n",
    "    if len(arr) == 0 or split_index <= 0 or split_index >= len(arr):\n",
    "        return arr\n",
    "    split_arr = arr[split_index:] + arr[:split_index]\n",
    "    return split_arr\n",
    "\n",
    "# Example \n",
    "array = [1, 2, 3, 4, 5]\n",
    "split_index = 2\n",
    "result = split_array(array, split_index)\n",
    "print(\"Array after splitting and adding the first part to the end:\", result)\n"
   ]
  },
  {
   "cell_type": "code",
   "execution_count": 10,
   "metadata": {},
   "outputs": [
    {
     "name": "stdout",
     "output_type": "stream",
     "text": [
      "The array is not monotonic.\n"
     ]
    }
   ],
   "source": [
    "## Q5.Write a Python Program to check if given array is Monotonic?\n",
    "\n",
    "def is_monotonic(arr):\n",
    "    increasing = decreasing = True\n",
    "    for i in range(len(arr) - 1):\n",
    "        if arr[i] > arr[i + 1]:\n",
    "            increasing = False\n",
    "        if arr[i] < arr[i + 1]:\n",
    "            decreasing = False\n",
    "    return increasing or decreasing\n",
    "\n",
    "# Example \n",
    "array = [1, 2, 3, 6, 5]\n",
    "result = is_monotonic(array)\n",
    "if result:\n",
    "    print(\"The array is monotonic.\")\n",
    "else:\n",
    "    print(\"The array is not monotonic.\")\n"
   ]
  },
  {
   "cell_type": "code",
   "execution_count": null,
   "metadata": {},
   "outputs": [],
   "source": []
  },
  {
   "cell_type": "code",
   "execution_count": null,
   "metadata": {},
   "outputs": [],
   "source": []
  }
 ],
 "metadata": {
  "kernelspec": {
   "display_name": "Python 3",
   "language": "python",
   "name": "python3"
  },
  "language_info": {
   "codemirror_mode": {
    "name": "ipython",
    "version": 3
   },
   "file_extension": ".py",
   "mimetype": "text/x-python",
   "name": "python",
   "nbconvert_exporter": "python",
   "pygments_lexer": "ipython3",
   "version": "3.6.5"
  }
 },
 "nbformat": 4,
 "nbformat_minor": 2
}
