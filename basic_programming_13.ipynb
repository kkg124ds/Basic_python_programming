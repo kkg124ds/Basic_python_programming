{
 "cells": [
  {
   "cell_type": "code",
   "execution_count": 3,
   "metadata": {},
   "outputs": [
    {
     "name": "stdout",
     "output_type": "stream",
     "text": [
      "Enter comma-separated values for D: 150\n",
      "Output: 22\n"
     ]
    }
   ],
   "source": [
    "##Q1.\n",
    "\n",
    "import math\n",
    "\n",
    "C = 50\n",
    "H = 30\n",
    "\n",
    "input_sequence = input(\"Enter comma-separated values for D: \")\n",
    "values = input_sequence.split(\",\")\n",
    "\n",
    "result = []\n",
    "for D in values:\n",
    "    Q = math.sqrt((2 * C * int(D)) / H)\n",
    "    result.append(round(Q))\n",
    "\n",
    "output = \",\".join(map(str, result))\n",
    "print(\"Output:\", output)\n"
   ]
  },
  {
   "cell_type": "code",
   "execution_count": 10,
   "metadata": {},
   "outputs": [
    {
     "name": "stdout",
     "output_type": "stream",
     "text": [
      "Enter X and Y values (comma-separated): 3,5\n",
      "Output: [[0, 0, 0, 0, 0], [0, 1, 2, 3, 4], [0, 2, 4, 6, 8]]\n"
     ]
    }
   ],
   "source": [
    "##Q2.\n",
    "\n",
    "X, Y = map(int, input(\"Enter X and Y values (comma-separated): \").split(\",\"))\n",
    "\n",
    "array = [[i * j for j in range(Y)] for i in range(X)]\n",
    "print(\"Output:\", array)\n"
   ]
  },
  {
   "cell_type": "code",
   "execution_count": 9,
   "metadata": {},
   "outputs": [
    {
     "name": "stdout",
     "output_type": "stream",
     "text": [
      "Enter comma-separated words: without,hello,bag,world\n",
      "Output: bag,hello,without,world\n"
     ]
    }
   ],
   "source": [
    "##Q3.\n",
    "\n",
    "words = input(\"Enter comma-separated words: \").split(',')\n",
    "sorted_words = sorted(words)\n",
    "output = ','.join(sorted_words)\n",
    "print(\"Output:\", output)\n"
   ]
  },
  {
   "cell_type": "code",
   "execution_count": 11,
   "metadata": {},
   "outputs": [
    {
     "name": "stdout",
     "output_type": "stream",
     "text": [
      "Enter a sentence: hello world and practice makes perfect and hello world again\n",
      "Output: again and hello makes perfect practice world\n"
     ]
    }
   ],
   "source": [
    "##Q4.\n",
    "\n",
    "sentence = input(\"Enter a sentence: \")\n",
    "words = sentence.split()\n",
    "unique_words = sorted(set(words))\n",
    "output = ' '.join(unique_words)\n",
    "print(\"Output:\", output)\n"
   ]
  },
  {
   "cell_type": "code",
   "execution_count": 12,
   "metadata": {},
   "outputs": [
    {
     "name": "stdout",
     "output_type": "stream",
     "text": [
      "Enter a sentence: hello world! 123\n",
      "LETTERS 10\n",
      "DIGITS 3\n"
     ]
    }
   ],
   "source": [
    "## Q5.\n",
    "\n",
    "sentence = input(\"Enter a sentence: \")\n",
    "letter_count = sum(c.isalpha() for c in sentence)\n",
    "digit_count = sum(c.isdigit() for c in sentence)\n",
    "print(\"LETTERS\", letter_count)\n",
    "print(\"DIGITS\", digit_count)\n"
   ]
  },
  {
   "cell_type": "code",
   "execution_count": 13,
   "metadata": {},
   "outputs": [
    {
     "name": "stdout",
     "output_type": "stream",
     "text": [
      "Enter comma-separated passwords: ABd1234@1,a F1#,2w3E*,2We3345\n",
      "Output: ABd1234@1\n"
     ]
    }
   ],
   "source": [
    "## Q6.\n",
    "\n",
    "import re\n",
    "\n",
    "def is_valid_password(password):\n",
    "    if len(password) < 6 or len(password) > 12:\n",
    "        return False\n",
    "    if not re.search(r\"[a-z]\", password):\n",
    "        return False\n",
    "    if not re.search(r\"[0-9]\", password):\n",
    "        return False\n",
    "    if not re.search(r\"[A-Z]\", password):\n",
    "        return False\n",
    "    if not re.search(r\"[$#@]\", password):\n",
    "        return False\n",
    "    return True\n",
    "\n",
    "passwords = input(\"Enter comma-separated passwords: \").split(',')\n",
    "valid_passwords = [password for password in passwords if is_valid_password(password)]\n",
    "output = ','.join(valid_passwords)\n",
    "print(\"Output:\", output)\n"
   ]
  },
  {
   "cell_type": "code",
   "execution_count": null,
   "metadata": {},
   "outputs": [],
   "source": []
  },
  {
   "cell_type": "code",
   "execution_count": null,
   "metadata": {},
   "outputs": [],
   "source": []
  },
  {
   "cell_type": "code",
   "execution_count": null,
   "metadata": {},
   "outputs": [],
   "source": []
  }
 ],
 "metadata": {
  "kernelspec": {
   "display_name": "Python 3",
   "language": "python",
   "name": "python3"
  },
  "language_info": {
   "codemirror_mode": {
    "name": "ipython",
    "version": 3
   },
   "file_extension": ".py",
   "mimetype": "text/x-python",
   "name": "python",
   "nbconvert_exporter": "python",
   "pygments_lexer": "ipython3",
   "version": "3.6.5"
  }
 },
 "nbformat": 4,
 "nbformat_minor": 2
}
