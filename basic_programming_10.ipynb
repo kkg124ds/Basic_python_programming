{
 "cells": [
  {
   "cell_type": "code",
   "execution_count": 3,
   "metadata": {},
   "outputs": [
    {
     "name": "stdout",
     "output_type": "stream",
     "text": [
      "Sum of elements in the list is: 40\n"
     ]
    }
   ],
   "source": [
    "## Q1.Write a Python program to find sum of elements in list?\n",
    "\n",
    "list_numbers = [2, 5, 8, 10, 15]\n",
    "sum_numbers = sum(list_numbers)\n",
    "\n",
    "print(\"Sum of elements in the list is:\", sum_numbers)\n"
   ]
  },
  {
   "cell_type": "code",
   "execution_count": 4,
   "metadata": {},
   "outputs": [
    {
     "name": "stdout",
     "output_type": "stream",
     "text": [
      "Product of numbers: 120\n"
     ]
    }
   ],
   "source": [
    "## Q2.Write a Python program to  Multiply all numbers in the list?\n",
    "\n",
    "def multiply_numbers(lst):\n",
    "    result = 1\n",
    "    for num in lst:\n",
    "        result *= num\n",
    "    return result\n",
    "\n",
    "# Example \n",
    "numbers = [1, 2, 3, 4, 5]\n",
    "result = multiply_numbers(numbers)\n",
    "print(\"Product of numbers:\", result)\n"
   ]
  },
  {
   "cell_type": "code",
   "execution_count": 5,
   "metadata": {},
   "outputs": [
    {
     "name": "stdout",
     "output_type": "stream",
     "text": [
      "Smallest number: 1\n"
     ]
    }
   ],
   "source": [
    "## Q3.Write a Python program to find smallest number in a list?\n",
    "\n",
    "def find_smallest(lst):\n",
    "    smallest = min(lst)\n",
    "    return smallest\n",
    "\n",
    "# Example \n",
    "numbers = [5, 2, 8, 1, 9]\n",
    "result = find_smallest(numbers)\n",
    "print(\"Smallest number:\", result)\n"
   ]
  },
  {
   "cell_type": "code",
   "execution_count": 6,
   "metadata": {},
   "outputs": [
    {
     "name": "stdout",
     "output_type": "stream",
     "text": [
      "Largest number: 9\n"
     ]
    }
   ],
   "source": [
    "## Q4.Write a Python program to find largest number in a list?\n",
    "\n",
    "def find_largest(lst):\n",
    "    largest = max(lst)\n",
    "    return largest\n",
    "\n",
    "# Example\n",
    "numbers = [5, 2, 8, 1, 9]\n",
    "result = find_largest(numbers)\n",
    "print(\"Largest number:\", result)\n"
   ]
  },
  {
   "cell_type": "code",
   "execution_count": 7,
   "metadata": {},
   "outputs": [
    {
     "name": "stdout",
     "output_type": "stream",
     "text": [
      "Second largest number: 8\n"
     ]
    }
   ],
   "source": [
    "## Q5.Write a Python program to find second largest number in a list?\n",
    "\n",
    "def find_second_largest(lst):\n",
    "    sorted_lst = sorted(lst)\n",
    "    second_largest = sorted_lst[-2]\n",
    "    return second_largest\n",
    "\n",
    "# Example \n",
    "numbers = [5, 2, 8, 1, 9]\n",
    "result = find_second_largest(numbers)\n",
    "print(\"Second largest number:\", result)\n"
   ]
  },
  {
   "cell_type": "code",
   "execution_count": 8,
   "metadata": {},
   "outputs": [
    {
     "name": "stdout",
     "output_type": "stream",
     "text": [
      "N largest elements: [9, 8, 5]\n"
     ]
    }
   ],
   "source": [
    "## Q6.Write a Python program to find N largest elements from a list?\n",
    "\n",
    "def find_n_largest(lst, n):\n",
    "    sorted_lst = sorted(lst, reverse=True)\n",
    "    n_largest = sorted_lst[:n]\n",
    "    return n_largest\n",
    "\n",
    "# Example \n",
    "numbers = [5, 2, 8, 1, 9]\n",
    "n = 3\n",
    "result = find_n_largest(numbers, n)\n",
    "print(\"N largest elements:\", result)\n"
   ]
  },
  {
   "cell_type": "code",
   "execution_count": 9,
   "metadata": {},
   "outputs": [
    {
     "name": "stdout",
     "output_type": "stream",
     "text": [
      "2\n",
      "4\n",
      "6\n",
      "8\n",
      "10\n"
     ]
    }
   ],
   "source": [
    "## Q7.Write a Python program to print even numbers in a list?\n",
    "\n",
    "def print_even_numbers(lst):\n",
    "    for num in lst:\n",
    "        if num % 2 == 0:\n",
    "            print(num)\n",
    "\n",
    "# example \n",
    "lst = [1, 2, 3, 4, 5, 6, 7, 8, 9, 10]\n",
    "print_even_numbers(lst)\n"
   ]
  },
  {
   "cell_type": "code",
   "execution_count": 10,
   "metadata": {},
   "outputs": [
    {
     "name": "stdout",
     "output_type": "stream",
     "text": [
      "1\n",
      "3\n",
      "5\n",
      "7\n",
      "9\n"
     ]
    }
   ],
   "source": [
    "## Q8.Write a Python program to print odd numbers in a List?\n",
    "\n",
    "def print_odd_numbers(lst):\n",
    "    for num in lst:\n",
    "        if num % 2 != 0:\n",
    "            print(num)\n",
    "\n",
    "# example \n",
    "lst = [1, 2, 3, 4, 5, 6, 7, 8, 9, 10]\n",
    "print_odd_numbers(lst)\n"
   ]
  },
  {
   "cell_type": "code",
   "execution_count": 11,
   "metadata": {},
   "outputs": [
    {
     "name": "stdout",
     "output_type": "stream",
     "text": [
      "[1, [2, 3], 4, [5]]\n"
     ]
    }
   ],
   "source": [
    "## Q9.Write a Python program to Remove empty List from List?\n",
    "\n",
    "def remove_empty_lists(lst):\n",
    "    return [x for x in lst if x != []]\n",
    "\n",
    "# example \n",
    "lst = [1, [2, 3], [], 4, [], [5], [], []]\n",
    "new_lst = remove_empty_lists(lst)\n",
    "print(new_lst)\n",
    "\n"
   ]
  },
  {
   "cell_type": "code",
   "execution_count": 12,
   "metadata": {},
   "outputs": [
    {
     "name": "stdout",
     "output_type": "stream",
     "text": [
      "[1, 2, 3, 4, 5]\n"
     ]
    }
   ],
   "source": [
    "## Q10.Write a Python program to Cloning or Copying a list?\n",
    "\n",
    "def clone_list(lst):\n",
    "    return lst.copy()\n",
    "\n",
    "# example \n",
    "lst = [1, 2, 3, 4, 5]\n",
    "new_lst = clone_list(lst)\n",
    "print(new_lst)\n"
   ]
  },
  {
   "cell_type": "code",
   "execution_count": 13,
   "metadata": {},
   "outputs": [
    {
     "name": "stdout",
     "output_type": "stream",
     "text": [
      "1 occurs 5 times in the list\n"
     ]
    }
   ],
   "source": [
    "## Q11.Write a Python program to Count occurrences of an element in a list?\n",
    "\n",
    "def count_occurrences(lst, elem):\n",
    "    count = 0\n",
    "    for x in lst:\n",
    "        if x == elem:\n",
    "            count += 1\n",
    "    return count\n",
    "\n",
    "# example \n",
    "lst = [1, 2, 3, 4, 1, 1, 5, 6, 1, 7, 8, 1]\n",
    "elem = 1\n",
    "count = count_occurrences(lst, elem)\n",
    "print(f\"{elem} occurs {count} times in the list\")\n"
   ]
  },
  {
   "cell_type": "code",
   "execution_count": null,
   "metadata": {},
   "outputs": [],
   "source": []
  },
  {
   "cell_type": "code",
   "execution_count": null,
   "metadata": {},
   "outputs": [],
   "source": []
  },
  {
   "cell_type": "code",
   "execution_count": null,
   "metadata": {},
   "outputs": [],
   "source": []
  }
 ],
 "metadata": {
  "kernelspec": {
   "display_name": "Python 3",
   "language": "python",
   "name": "python3"
  },
  "language_info": {
   "codemirror_mode": {
    "name": "ipython",
    "version": 3
   },
   "file_extension": ".py",
   "mimetype": "text/x-python",
   "name": "python",
   "nbconvert_exporter": "python",
   "pygments_lexer": "ipython3",
   "version": "3.6.5"
  }
 },
 "nbformat": 4,
 "nbformat_minor": 2
}
