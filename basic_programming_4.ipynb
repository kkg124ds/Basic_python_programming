{
 "cells": [
  {
   "cell_type": "code",
   "execution_count": 2,
   "metadata": {},
   "outputs": [
    {
     "name": "stdout",
     "output_type": "stream",
     "text": [
      "Enter a number: 4\n",
      "The factorial of 4 is 24\n"
     ]
    }
   ],
   "source": [
    "## Q1.Write a Python Program to Find the Factorial of a Number?\n",
    "\n",
    "number = int(input(\"Enter a number: \"))\n",
    "\n",
    "factorial = 1\n",
    "\n",
    "if number < 0:\n",
    "    print(\"Factorial is not defined for negative numbers.\")\n",
    "elif number == 0:\n",
    "    print(\"The factorial of 0 is 1.\")\n",
    "else:\n",
    "    for i in range(1, number + 1):\n",
    "        factorial *= i\n",
    "    print(\"The factorial of\", number, \"is\", factorial)\n"
   ]
  },
  {
   "cell_type": "code",
   "execution_count": 4,
   "metadata": {},
   "outputs": [
    {
     "name": "stdout",
     "output_type": "stream",
     "text": [
      "Multiplication Table of number: 5\n",
      "5 x 1 = 5\n",
      "5 x 2 = 10\n",
      "5 x 3 = 15\n",
      "5 x 4 = 20\n",
      "5 x 5 = 25\n",
      "5 x 6 = 30\n",
      "5 x 7 = 35\n",
      "5 x 8 = 40\n",
      "5 x 9 = 45\n",
      "5 x 10 = 50\n"
     ]
    }
   ],
   "source": [
    "## Q2.Write a Python Program to Display the multiplication Table?\n",
    "\n",
    "number = int(input(\"Multiplication Table of number: \"))\n",
    "\n",
    "for i in range(1, 11):\n",
    "    print(number, \"x\", i, \"=\", number * i)\n"
   ]
  },
  {
   "cell_type": "code",
   "execution_count": 6,
   "metadata": {},
   "outputs": [
    {
     "name": "stdout",
     "output_type": "stream",
     "text": [
      "Enter the number of terms: 5\n",
      "Fibonacci sequence:\n",
      "0\n",
      "1\n",
      "1\n",
      "2\n",
      "3\n"
     ]
    }
   ],
   "source": [
    "## Q3.Write a Python Program to Print the Fibonacci sequence?\n",
    "\n",
    "number = int(input(\"Enter the number of terms: \"))\n",
    "\n",
    "first_term = 0\n",
    "second_term = 1\n",
    "\n",
    "if number <= 0:\n",
    "    print(\"Please enter a positive integer.\")\n",
    "else:\n",
    "    print(\"Fibonacci sequence:\")\n",
    "    for i in range(number):\n",
    "        print(first_term)\n",
    "        first_term,second_term = second_term,first_term + second_term"
   ]
  },
  {
   "cell_type": "code",
   "execution_count": 11,
   "metadata": {},
   "outputs": [
    {
     "name": "stdout",
     "output_type": "stream",
     "text": [
      "Enter a number: 153\n",
      "153 is an Armstrong number.\n"
     ]
    }
   ],
   "source": [
    "## Q4.Write a Python Program to Check Armstrong Number?\n",
    "\n",
    "number = int(input(\"Enter a number: \"))\n",
    "\n",
    "sum = 0\n",
    "temp = number\n",
    "\n",
    "# Calculate the sum of the cubes of each digit\n",
    "while temp > 0:\n",
    "    digit = temp % 10\n",
    "    sum += digit ** 3\n",
    "    temp //= 10\n",
    "\n",
    "# Check if the number is an Armstrong number\n",
    "if number == sum:\n",
    "    print(number, \"is an Armstrong number.\")\n",
    "else:\n",
    "    print(number, \"is not an Armstrong number.\")\n",
    "\n"
   ]
  },
  {
   "cell_type": "code",
   "execution_count": 13,
   "metadata": {},
   "outputs": [
    {
     "name": "stdout",
     "output_type": "stream",
     "text": [
      "Enter the lower range: 100\n",
      "Enter the upper range: 300\n",
      "Armstrong numbers between 100 and 300 are:\n",
      "153\n"
     ]
    }
   ],
   "source": [
    "## Q5.Write a Python Program to Find Armstrong Number in an Interval?\n",
    "\n",
    "lower = int(input(\"Enter the lower range: \"))\n",
    "upper = int(input(\"Enter the upper range: \"))\n",
    "\n",
    "print(\"Armstrong numbers between\", lower, \"and\", upper, \"are:\")\n",
    "\n",
    "for number in range(lower, upper + 1):\n",
    "    sum = 0\n",
    "    temp = number\n",
    "    while temp > 0:\n",
    "        digit = temp % 10\n",
    "        sum += digit ** 3\n",
    "        temp //= 10\n",
    "    if number == sum:\n",
    "        print(number)\n",
    "        "
   ]
  },
  {
   "cell_type": "code",
   "execution_count": 15,
   "metadata": {},
   "outputs": [
    {
     "name": "stdout",
     "output_type": "stream",
     "text": [
      "Enter a positive integer: 5\n",
      "The sum of natural numbers up to 5 is 15\n"
     ]
    }
   ],
   "source": [
    "## Q6.Write a Python Program to Find the Sum of Natural Numbers?\n",
    "\n",
    "n = int(input(\"Enter a positive integer: \"))\n",
    "\n",
    "if n < 0:\n",
    "    print(\"Enter a positive integer.\")\n",
    "else:\n",
    "    sum = 0\n",
    "    for i in range(1, n + 1):\n",
    "        sum += i\n",
    "    print(\"The sum of natural numbers up to\", n, \"is\", sum)\n"
   ]
  },
  {
   "cell_type": "code",
   "execution_count": null,
   "metadata": {},
   "outputs": [],
   "source": []
  },
  {
   "cell_type": "code",
   "execution_count": null,
   "metadata": {},
   "outputs": [],
   "source": []
  },
  {
   "cell_type": "code",
   "execution_count": null,
   "metadata": {},
   "outputs": [],
   "source": []
  }
 ],
 "metadata": {
  "kernelspec": {
   "display_name": "Python 3",
   "language": "python",
   "name": "python3"
  },
  "language_info": {
   "codemirror_mode": {
    "name": "ipython",
    "version": 3
   },
   "file_extension": ".py",
   "mimetype": "text/x-python",
   "name": "python",
   "nbconvert_exporter": "python",
   "pygments_lexer": "ipython3",
   "version": "3.6.5"
  }
 },
 "nbformat": 4,
 "nbformat_minor": 2
}
