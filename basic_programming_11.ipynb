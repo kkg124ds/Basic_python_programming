{
 "cells": [
  {
   "cell_type": "code",
   "execution_count": 2,
   "metadata": {},
   "outputs": [
    {
     "name": "stdout",
     "output_type": "stream",
     "text": [
      "Words greater than length 5 are: ['sample', 'string', 'program']\n"
     ]
    }
   ],
   "source": [
    "## Q11.Write a Python program to find words which are greater than given length k?\n",
    "\n",
    "def find_words_greater_than_k(string, k):\n",
    "    words = string.split()\n",
    "    result = []\n",
    "    for word in words:\n",
    "        if len(word) > k:\n",
    "            result.append(word)\n",
    "    return result\n",
    "\n",
    "input_string = \"This is a sample string to test the program\"\n",
    "k = 5\n",
    "words_greater_than_k = find_words_greater_than_k(input_string, k)\n",
    "print(\"Words greater than length\", k, \"are:\", words_greater_than_k)\n"
   ]
  },
  {
   "cell_type": "code",
   "execution_count": 3,
   "metadata": {},
   "outputs": [
    {
     "name": "stdout",
     "output_type": "stream",
     "text": [
      "Hell, World!\n"
     ]
    }
   ],
   "source": [
    "## Q2.Write a Python program for removing i-th character from a string?\n",
    "\n",
    "def remove_ith_character(string, i):\n",
    "    # Convert the string to a list of characters\n",
    "    chars = list(string)\n",
    "\n",
    "    # Remove the i-th character\n",
    "    del chars[i]\n",
    "    \n",
    "    # Convert the list of characters back to a string\n",
    "    new_string = \"\".join(chars)\n",
    "\n",
    "    return new_string\n",
    "\n",
    "# Example\n",
    "string = \"Hello, World!\"\n",
    "i = 4\n",
    "result = remove_ith_character(string, i)\n",
    "print(result)  \n"
   ]
  },
  {
   "cell_type": "code",
   "execution_count": 4,
   "metadata": {},
   "outputs": [
    {
     "name": "stdout",
     "output_type": "stream",
     "text": [
      "String after split and join: This-is-a-sample-string\n"
     ]
    }
   ],
   "source": [
    "## Q3.Write a Python program to split and join a string?\n",
    "\n",
    "def split_and_join_string(string):\n",
    "    words = string.split()\n",
    "    return '-'.join(words)\n",
    "\n",
    "input_string = \"This is a sample string\"\n",
    "new_string = split_and_join_string(input_string)\n",
    "print(\"String after split and join:\", new_string)\n"
   ]
  },
  {
   "cell_type": "code",
   "execution_count": 7,
   "metadata": {},
   "outputs": [
    {
     "name": "stdout",
     "output_type": "stream",
     "text": [
      "The string is a binary string.\n"
     ]
    }
   ],
   "source": [
    "## Q4.Write a Python to check if a given string is binary string or not?\n",
    "\n",
    "def is_binary_string(string):\n",
    "    for char in string:\n",
    "        if char != '0' and char != '1':\n",
    "            return False\n",
    "    return True\n",
    "\n",
    "input_string = \"101010\"\n",
    "if is_binary_string(input_string):\n",
    "    print(\"The string is a binary string.\")\n",
    "else:\n",
    "    print(\"The string is not a binary string.\")\n"
   ]
  },
  {
   "cell_type": "code",
   "execution_count": 11,
   "metadata": {},
   "outputs": [
    {
     "name": "stdout",
     "output_type": "stream",
     "text": [
      "Uncommon words: {'first', 'second'}\n"
     ]
    }
   ],
   "source": [
    "## Q5.Write a Python program to find uncommon words from two Strings?\n",
    "\n",
    "def find_uncommon_words(string1, string2):\n",
    "    set1 = set(string1.split())\n",
    "    set2 = set(string2.split())\n",
    "    uncommon_words = set1.symmetric_difference(set2)\n",
    "    return uncommon_words\n",
    "\n",
    "input_string1 = \"This is the first line\"\n",
    "input_string2 = \"This is the second line\"\n",
    "uncommon_words = find_uncommon_words(input_string1, input_string2)\n",
    "print(\"Uncommon words:\", uncommon_words)\n"
   ]
  },
  {
   "cell_type": "code",
   "execution_count": 14,
   "metadata": {},
   "outputs": [
    {
     "name": "stdout",
     "output_type": "stream",
     "text": [
      "Duplicate characters: ['l', 'o']\n"
     ]
    }
   ],
   "source": [
    "## Q6.Write a Python to find all duplicate characters in string?\n",
    "\n",
    "def find_duplicate_characters(string):\n",
    "    duplicates = []\n",
    "    for char in string:\n",
    "        if string.count(char) > 1 and char not in duplicates:\n",
    "            duplicates.append(char)\n",
    "    return duplicates\n",
    "\n",
    "input_string = \"Hello, World!\"\n",
    "duplicate_chars = find_duplicate_characters(input_string)\n",
    "print(\"Duplicate characters:\", duplicate_chars)\n"
   ]
  },
  {
   "cell_type": "code",
   "execution_count": 17,
   "metadata": {},
   "outputs": [
    {
     "name": "stdout",
     "output_type": "stream",
     "text": [
      "The string does not contain special characters.\n"
     ]
    }
   ],
   "source": [
    "## Q7.Write a Python Program to check if a string contains any special character?\n",
    "\n",
    "import re\n",
    "\n",
    "def contains_special_characters(string):\n",
    "    regex = re.compile('[@_!#$%^&*()<>?/\\|}{~:]')\n",
    "    if regex.search(string) is None:\n",
    "        return False\n",
    "    return True\n",
    "\n",
    "input_string = \"Hello  World\"\n",
    "if contains_special_characters(input_string):\n",
    "    print(\"The string contains special characters.\")\n",
    "else:\n",
    "    print(\"The string does not contain special characters.\")\n",
    "    \n"
   ]
  },
  {
   "cell_type": "code",
   "execution_count": null,
   "metadata": {},
   "outputs": [],
   "source": []
  },
  {
   "cell_type": "code",
   "execution_count": null,
   "metadata": {},
   "outputs": [],
   "source": []
  },
  {
   "cell_type": "code",
   "execution_count": null,
   "metadata": {},
   "outputs": [],
   "source": []
  }
 ],
 "metadata": {
  "kernelspec": {
   "display_name": "Python 3",
   "language": "python",
   "name": "python3"
  },
  "language_info": {
   "codemirror_mode": {
    "name": "ipython",
    "version": 3
   },
   "file_extension": ".py",
   "mimetype": "text/x-python",
   "name": "python",
   "nbconvert_exporter": "python",
   "pygments_lexer": "ipython3",
   "version": "3.6.5"
  }
 },
 "nbformat": 4,
 "nbformat_minor": 2
}
