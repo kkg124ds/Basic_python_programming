{
 "cells": [
  {
   "cell_type": "code",
   "execution_count": 3,
   "metadata": {},
   "outputs": [
    {
     "name": "stdout",
     "output_type": "stream",
     "text": [
      "0\n",
      "30\n",
      "18\n"
     ]
    }
   ],
   "source": [
    "## Q1.Create a function that takes three arguments a, b, c and \n",
    "       #returns the sum of the numbers that are evenly divided by c from the range a, b inclusive.\n",
    "\n",
    "def evenly_divisible(a, b, c):\n",
    "    sum = 0\n",
    "    for num in range(a, b+1):\n",
    "        if num % c == 0:\n",
    "            sum += num\n",
    "    return sum\n",
    "\n",
    "# Examples\n",
    "print(evenly_divisible(1, 10, 20))\n",
    "print(evenly_divisible(1, 10, 2))   \n",
    "print(evenly_divisible(1, 10, 3))   \n"
   ]
  },
  {
   "cell_type": "code",
   "execution_count": 1,
   "metadata": {},
   "outputs": [
    {
     "name": "stdout",
     "output_type": "stream",
     "text": [
      "True\n",
      "False\n",
      "True\n"
     ]
    }
   ],
   "source": [
    "## Q2.Create a function that returns True if a given inequality expression is correct and False otherwise.\n",
    "\n",
    "def correct_signs(expression):\n",
    "    return eval(expression)\n",
    "\n",
    "# Examples\n",
    "print(correct_signs(\"3 < 7 < 11\"))          \n",
    "print(correct_signs(\"13 > 44 > 33 > 1\"))    \n",
    "print(correct_signs(\"1 < 2 < 6 < 9 > 3\"))   \n"
   ]
  },
  {
   "cell_type": "code",
   "execution_count": 2,
   "metadata": {},
   "outputs": [
    {
     "name": "stdout",
     "output_type": "stream",
     "text": [
      "th# ##rdv#rk\n",
      "m?nn?? m??s?\n",
      "sh*k*sp**r*\n"
     ]
    }
   ],
   "source": [
    "## Q3.Create a function that replaces all the vowels in a string with a specified character.\n",
    "\n",
    "def replace_vowels(txt, char):\n",
    "    vowels = \"AEIOUaeiou\"\n",
    "    for vowel in vowels:\n",
    "        txt = txt.replace(vowel, char)\n",
    "    return txt\n",
    "\n",
    "\n",
    "# Examples\n",
    "print(replace_vowels(\"the aardvark\", \"#\"))  \n",
    "print(replace_vowels(\"minnie mouse\", \"?\"))  \n",
    "print(replace_vowels(\"shakespeare\", \"*\"))   \n"
   ]
  },
  {
   "cell_type": "code",
   "execution_count": 4,
   "metadata": {},
   "outputs": [
    {
     "name": "stdout",
     "output_type": "stream",
     "text": [
      "120\n",
      "6\n",
      "1\n",
      "1\n"
     ]
    }
   ],
   "source": [
    "## Q4.Write a function that calculates the factorial of a number recursively.\n",
    "\n",
    "def factorial(n):\n",
    "    if n == 0 or n == 1:\n",
    "        return 1\n",
    "    else:\n",
    "        return n * factorial(n-1)\n",
    "\n",
    "# Examples\n",
    "\n",
    "print(factorial(5))\n",
    "\n",
    "print(factorial(3))\n",
    "\n",
    "print(factorial(1))\n",
    "\n",
    "print(factorial(0))\n",
    "\n"
   ]
  },
  {
   "cell_type": "code",
   "execution_count": 3,
   "metadata": {},
   "outputs": [
    {
     "name": "stdout",
     "output_type": "stream",
     "text": [
      "5\n",
      "0\n",
      "1\n"
     ]
    }
   ],
   "source": [
    "## Q5.Hamming distance is the number of characters that differ between two strings.\n",
    "\n",
    "def hamming_distance(str1, str2):\n",
    "    if len(str1) != len(str2):\n",
    "        return \"The two strings must have the same length.\"\n",
    "    else:\n",
    "        return sum([1 for i in range(len(str1)) if str1[i] != str2[i]])\n",
    "    \n",
    "# Examples\n",
    "print(hamming_distance(\"abcde\", \"bcdef\"))\n",
    "\n",
    "print(hamming_distance(\"abcde\", \"abcde\"))\n",
    "\n",
    "print(hamming_distance(\"strong\", \"strung\"))\n",
    "\n",
    "\n"
   ]
  },
  {
   "cell_type": "code",
   "execution_count": null,
   "metadata": {},
   "outputs": [],
   "source": []
  },
  {
   "cell_type": "code",
   "execution_count": null,
   "metadata": {},
   "outputs": [],
   "source": []
  },
  {
   "cell_type": "code",
   "execution_count": null,
   "metadata": {},
   "outputs": [],
   "source": []
  }
 ],
 "metadata": {
  "kernelspec": {
   "display_name": "Python 3",
   "language": "python",
   "name": "python3"
  },
  "language_info": {
   "codemirror_mode": {
    "name": "ipython",
    "version": 3
   },
   "file_extension": ".py",
   "mimetype": "text/x-python",
   "name": "python",
   "nbconvert_exporter": "python",
   "pygments_lexer": "ipython3",
   "version": "3.6.5"
  }
 },
 "nbformat": 4,
 "nbformat_minor": 2
}
