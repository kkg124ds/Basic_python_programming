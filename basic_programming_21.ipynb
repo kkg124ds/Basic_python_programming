{
 "cells": [
  {
   "cell_type": "code",
   "execution_count": 1,
   "metadata": {},
   "outputs": [
    {
     "name": "stdout",
     "output_type": "stream",
     "text": [
      "[6, 3, 23, 17, 10]\n",
      "[10, 20, 42, 6]\n",
      "No list has been selected\n"
     ]
    }
   ],
   "source": [
    "## Q1.Write a function that takes a list and a number as arguments.Add the number to the end of the list,\n",
    "      #then remove the first element of the list.The function should then return the updated list.\n",
    "\n",
    "def next_in_line(lst, num):\n",
    "    if not lst:\n",
    "        return \"No list has been selected\"\n",
    "    lst.append(num)\n",
    "    lst.pop(0)\n",
    "    return lst\n",
    "\n",
    "\n",
    "#Examples\n",
    "print(next_in_line([7, 6, 3, 23, 17], 10))\n",
    "print(next_in_line([1, 10, 20, 42 ], 6))\n",
    "print(next_in_line([], 6) )\n"
   ]
  },
  {
   "cell_type": "code",
   "execution_count": 7,
   "metadata": {},
   "outputs": [
    {
     "data": {
      "text/plain": [
       "65700"
      ]
     },
     "execution_count": 7,
     "metadata": {},
     "output_type": "execute_result"
    }
   ],
   "source": [
    "## Q2.Create the function that takes a list of dictionaries and returns the sum of people's budgets.\n",
    "\n",
    "def get_budgets(lst):\n",
    "    return sum(person[\"budget\"] for person in lst)\n",
    "\n",
    "#Example\n",
    "get_budgets([\n",
    "  { \"name\": \"John\", \"age\": 21, \"budget\": 23000 },\n",
    "  { \"name\": \"Steve\",  \"age\": 32, \"budget\": 40000 },\n",
    "  { \"name\": \"Martin\",  \"age\": 16, \"budget\": 2700 }\n",
    "]) \n"
   ]
  },
  {
   "cell_type": "code",
   "execution_count": 9,
   "metadata": {},
   "outputs": [
    {
     "name": "stdout",
     "output_type": "stream",
     "text": [
      "ehllo\n",
      "abdeit\n",
      "acehkr\n",
      "eegk\n"
     ]
    }
   ],
   "source": [
    "## Q3.Create a function that takes a string and returns a string with its letters in alphabetical order.\n",
    "\n",
    "def alphabet_soup(txt):\n",
    "    return \"\".join(sorted(txt))\n",
    "\n",
    "\n",
    "#Examples\n",
    "\n",
    "print(alphabet_soup(\"hello\"))\n",
    "\n",
    "print(alphabet_soup(\"edabit\"))\n",
    "\n",
    "print(alphabet_soup(\"hacker\"))\n",
    "\n",
    "print(alphabet_soup(\"geek\"))\n",
    "\n"
   ]
  },
  {
   "cell_type": "code",
   "execution_count": 10,
   "metadata": {},
   "outputs": [
    {
     "name": "stdout",
     "output_type": "stream",
     "text": [
      "105.0\n",
      "15399.26\n"
     ]
    }
   ],
   "source": [
    "## Q4.Create a function that accepts the principal p, the term in years t, the interest rate r, and  \n",
    "   #the number of compounding periods per year n.\n",
    "\n",
    "def compound_interest(p, t, r, n):\n",
    "    amount = p * (1 + r / n) ** (n * t)\n",
    "    return round(amount, 2)\n",
    "\n",
    "#Examples\n",
    "\n",
    "print(compound_interest(100, 1, 0.05, 1))\n",
    "print(compound_interest(3500, 15, 0.1, 4))\n"
   ]
  },
  {
   "cell_type": "code",
   "execution_count": 15,
   "metadata": {},
   "outputs": [
    {
     "name": "stdout",
     "output_type": "stream",
     "text": [
      "[9, 2, 16]\n",
      "[81, 123]\n",
      "[1]\n"
     ]
    }
   ],
   "source": [
    "## Q5.Write a function that takes a list of elements and returns only the integers.\n",
    "\n",
    "def return_only_integer(lst):\n",
    "    return [x for x in lst if isinstance(x, int)]\n",
    "\n",
    "#Examples\n",
    "\n",
    "print(return_only_integer([9, 2, \"space\", \"car\", \"lion\", 16]))\n",
    "\n",
    "print(return_only_integer([\"hello\", 81, \"basketball\", 123, \"fox\"]))\n",
    "\n",
    "print(return_only_integer([\"String\", 3.3,  1]) )"
   ]
  },
  {
   "cell_type": "code",
   "execution_count": null,
   "metadata": {},
   "outputs": [],
   "source": []
  },
  {
   "cell_type": "code",
   "execution_count": null,
   "metadata": {},
   "outputs": [],
   "source": []
  },
  {
   "cell_type": "code",
   "execution_count": null,
   "metadata": {},
   "outputs": [],
   "source": []
  },
  {
   "cell_type": "code",
   "execution_count": null,
   "metadata": {},
   "outputs": [],
   "source": []
  }
 ],
 "metadata": {
  "kernelspec": {
   "display_name": "Python 3",
   "language": "python",
   "name": "python3"
  },
  "language_info": {
   "codemirror_mode": {
    "name": "ipython",
    "version": 3
   },
   "file_extension": ".py",
   "mimetype": "text/x-python",
   "name": "python",
   "nbconvert_exporter": "python",
   "pygments_lexer": "ipython3",
   "version": "3.6.5"
  }
 },
 "nbformat": 4,
 "nbformat_minor": 2
}
