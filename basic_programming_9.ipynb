{
 "cells": [
  {
   "cell_type": "code",
   "execution_count": 1,
   "metadata": {},
   "outputs": [
    {
     "name": "stdout",
     "output_type": "stream",
     "text": [
      "Enter a number: 55\n",
      "55 is not a Disarium number.\n"
     ]
    }
   ],
   "source": [
    "## Q1.Write a Python program to check if the given number is a Disarium Number?\n",
    "\n",
    "def is_disarium_number(num):\n",
    "    digit_count = len(str(num))\n",
    "    sum = 0\n",
    "    temp = num\n",
    "    while temp > 0:\n",
    "        digit = temp % 10\n",
    "        sum += digit ** digit_count\n",
    "        digit_count -= 1\n",
    "        temp //= 10\n",
    "    return num == sum\n",
    "\n",
    "# Example \n",
    "number = int(input(\"Enter a number: \"))\n",
    "if is_disarium_number(number):\n",
    "    print(number, \"is a Disarium number.\")\n",
    "else:\n",
    "    print(number, \"is not a Disarium number.\")\n"
   ]
  },
  {
   "cell_type": "code",
   "execution_count": 2,
   "metadata": {},
   "outputs": [
    {
     "name": "stdout",
     "output_type": "stream",
     "text": [
      "Disarium numbers between 1 and 100:\n",
      "1 2 3 4 5 6 7 8 9 89 "
     ]
    }
   ],
   "source": [
    "## Q2.Write a Python program to print all disarium numbers between 1 to 100?\n",
    "\n",
    "def is_disarium_number(num):\n",
    "    digit_count = len(str(num))\n",
    "    sum = 0\n",
    "    temp = num\n",
    "    while temp > 0:\n",
    "        digit = temp % 10\n",
    "        sum += digit ** digit_count\n",
    "        digit_count -= 1\n",
    "        temp //= 10\n",
    "    return num == sum\n",
    "\n",
    "print(\"Disarium numbers between 1 and 100:\")\n",
    "for i in range(1, 101):\n",
    "    if is_disarium_number(i):\n",
    "        print(i, end=\" \")\n"
   ]
  },
  {
   "cell_type": "code",
   "execution_count": 3,
   "metadata": {},
   "outputs": [
    {
     "name": "stdout",
     "output_type": "stream",
     "text": [
      "Enter a number: 33\n",
      "33 is not a Happy number.\n"
     ]
    }
   ],
   "source": [
    "## Q3.Write a Python program to check if the given number is Happy Number?\n",
    "\n",
    "def is_happy_number(num):\n",
    "    visited = set()\n",
    "    while True:\n",
    "        if num == 1:\n",
    "            return True\n",
    "        if num in visited:\n",
    "            return False\n",
    "        visited.add(num)\n",
    "        num = sum(int(digit) ** 2 for digit in str(num))\n",
    "\n",
    "# Example \n",
    "number = int(input(\"Enter a number: \"))\n",
    "if is_happy_number(number):\n",
    "    print(number, \"is a Happy number.\")\n",
    "else:\n",
    "    print(number, \"is not a Happy number.\")\n"
   ]
  },
  {
   "cell_type": "code",
   "execution_count": 4,
   "metadata": {},
   "outputs": [
    {
     "name": "stdout",
     "output_type": "stream",
     "text": [
      "Happy numbers between 1 and 100:\n",
      "1 7 10 13 19 23 28 31 32 44 49 68 70 79 82 86 91 94 97 100 "
     ]
    }
   ],
   "source": [
    "## Q4.Write a Python program to print all happy numbers between 1 and 100?\n",
    "\n",
    "def is_happy_number(num):\n",
    "    visited = set()\n",
    "    while True:\n",
    "        if num == 1:\n",
    "            return True\n",
    "        if num in visited:\n",
    "            return False\n",
    "        visited.add(num)\n",
    "        num = sum(int(digit) ** 2 for digit in str(num))\n",
    "\n",
    "print(\"Happy numbers between 1 and 100:\")\n",
    "for i in range(1, 101):\n",
    "    if is_happy_number(i):\n",
    "        print(i, end=\" \")\n"
   ]
  },
  {
   "cell_type": "code",
   "execution_count": 5,
   "metadata": {},
   "outputs": [
    {
     "name": "stdout",
     "output_type": "stream",
     "text": [
      "Enter a number: 99\n",
      "99 is not a Harshad number.\n"
     ]
    }
   ],
   "source": [
    "## Q5.Write a Python program to determine whether the given number is a Harshad Number?\n",
    "\n",
    "def is_harshad_number(num):\n",
    "    sum_digits = sum(int(digit) for digit in str(num))\n",
    "    return num % sum_digits == 0\n",
    "\n",
    "# Example usage\n",
    "number = int(input(\"Enter a number: \"))\n",
    "if is_harshad_number(number):\n",
    "    print(number, \"is a Harshad number.\")\n",
    "else:\n",
    "    print(number, \"is not a Harshad number.\")\n"
   ]
  },
  {
   "cell_type": "code",
   "execution_count": 6,
   "metadata": {},
   "outputs": [
    {
     "name": "stdout",
     "output_type": "stream",
     "text": [
      "Pronic numbers between 1 and 100:\n",
      "2 6 12 20 30 42 56 72 90 "
     ]
    }
   ],
   "source": [
    "## Q6.Write a Python program to print all pronic numbers between 1 and 100?\n",
    "\n",
    "def is_pronic_number(num):\n",
    "    for i in range(1, num):\n",
    "        if i * (i + 1) == num:\n",
    "            return True\n",
    "    return False\n",
    "\n",
    "print(\"Pronic numbers between 1 and 100:\")\n",
    "for i in range(1, 101):\n",
    "    if is_pronic_number(i):\n",
    "        print(i, end=\" \")\n"
   ]
  },
  {
   "cell_type": "code",
   "execution_count": null,
   "metadata": {},
   "outputs": [],
   "source": []
  },
  {
   "cell_type": "code",
   "execution_count": null,
   "metadata": {},
   "outputs": [],
   "source": []
  },
  {
   "cell_type": "code",
   "execution_count": null,
   "metadata": {},
   "outputs": [],
   "source": []
  },
  {
   "cell_type": "code",
   "execution_count": null,
   "metadata": {},
   "outputs": [],
   "source": []
  }
 ],
 "metadata": {
  "kernelspec": {
   "display_name": "Python 3",
   "language": "python",
   "name": "python3"
  },
  "language_info": {
   "codemirror_mode": {
    "name": "ipython",
    "version": 3
   },
   "file_extension": ".py",
   "mimetype": "text/x-python",
   "name": "python",
   "nbconvert_exporter": "python",
   "pygments_lexer": "ipython3",
   "version": "3.6.5"
  }
 },
 "nbformat": 4,
 "nbformat_minor": 2
}
