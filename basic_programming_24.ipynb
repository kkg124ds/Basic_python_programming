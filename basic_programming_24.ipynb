{
 "cells": [
  {
   "cell_type": "code",
   "execution_count": 1,
   "metadata": {},
   "outputs": [
    {
     "name": "stdout",
     "output_type": "stream",
     "text": [
      "[1, 2, 3, 40]\n",
      "[1, 2, 3]\n",
      "[1, 2, 3, 40, 5, 6, 7, 80, 9, 10, 11, 120, 13, 14, 15, 160, 17, 18, 19, 200, 21, 22, 23, 240, 25]\n"
     ]
    }
   ],
   "source": [
    "## Q1.Create a function that takes an integer and returns a list from 1 to the given number where \n",
    "    #If the number can be divided evenly by 4, amplify it by 10 else simply return the number.\n",
    "\n",
    "def amplify(num):\n",
    "    return [i * 10 if i % 4 == 0 else i for i in range(1, num+1)]\n",
    "\n",
    "# Examples\n",
    "print(amplify(4)) \n",
    "print(amplify(3))  \n",
    "print(amplify(25))  \n"
   ]
  },
  {
   "cell_type": "code",
   "execution_count": null,
   "metadata": {},
   "outputs": [],
   "source": []
  },
  {
   "cell_type": "code",
   "execution_count": 2,
   "metadata": {},
   "outputs": [
    {
     "name": "stdout",
     "output_type": "stream",
     "text": [
      "7\n",
      "0.77\n",
      "0\n"
     ]
    }
   ],
   "source": [
    "## Q2.Create a function that takes a list of numbers and return the number that's unique\n",
    "\n",
    "def unique(lst):\n",
    "    for num in lst:\n",
    "        if lst.count(num) == 1:\n",
    "            return num\n",
    "\n",
    "# Examples\n",
    "print(unique([3, 3, 3, 7, 3, 3]))  \n",
    "print(unique([0, 0, 0.77, 0, 0]))  \n",
    "print(unique([0, 1, 1, 1, 1, 1, 1, 1]))  \n"
   ]
  },
  {
   "cell_type": "code",
   "execution_count": null,
   "metadata": {},
   "outputs": [],
   "source": []
  },
  {
   "cell_type": "code",
   "execution_count": 1,
   "metadata": {},
   "outputs": [
    {
     "name": "stdout",
     "output_type": "stream",
     "text": [
      "380\n",
      "28\n"
     ]
    }
   ],
   "source": [
    "## Q3.Your task is to create a Circle constructor that creates a circle with a radius provided by an argument.\n",
    "      #The circles constructed must have two getters getArea() (PIr^2) and getPerimeter() (2PI*r) \n",
    "\n",
    "import math\n",
    "\n",
    "class Circle:\n",
    "    def __init__(self, radius):\n",
    "        self.radius = radius\n",
    "\n",
    "    def getArea(self):\n",
    "        return round(math.pi * self.radius ** 2)\n",
    "\n",
    "    def getPerimeter(self):\n",
    "        return round(2 * math.pi * self.radius)\n",
    "\n",
    "# Examples\n",
    "circy = Circle(11)\n",
    "print(circy.getArea())  \n",
    "circy = Circle(4.44)\n",
    "print(circy.getPerimeter())  \n"
   ]
  },
  {
   "cell_type": "code",
   "execution_count": null,
   "metadata": {},
   "outputs": [],
   "source": []
  },
  {
   "cell_type": "code",
   "execution_count": 5,
   "metadata": {},
   "outputs": [
    {
     "name": "stdout",
     "output_type": "stream",
     "text": [
      "['Apple', 'Google', 'Microsoft']\n",
      "['Raphael', 'Leonardo', 'Donatello', 'Michelangelo']\n",
      "['Jung', 'Turing', 'Einstein']\n"
     ]
    }
   ],
   "source": [
    "## Q4.Create a function that takes a list of strings and return a list, sorted from shortest to longest.\n",
    "\n",
    "def sort_by_length(lst):\n",
    "    return sorted(lst, key=len)\n",
    "\n",
    "# Examples\n",
    "print(sort_by_length([\"Google\", \"Apple\", \"Microsoft\"]))\n",
    "\n",
    "print(sort_by_length([\"Leonardo\", \"Michelangelo\", \"Raphael\", \"Donatello\"]))\n",
    "\n",
    "\n",
    "print(sort_by_length([\"Turing\", \"Einstein\", \"Jung\"]))"
   ]
  },
  {
   "cell_type": "code",
   "execution_count": null,
   "metadata": {},
   "outputs": [],
   "source": []
  },
  {
   "cell_type": "code",
   "execution_count": 7,
   "metadata": {},
   "outputs": [
    {
     "name": "stdout",
     "output_type": "stream",
     "text": [
      "True\n",
      "True\n",
      "False\n"
     ]
    }
   ],
   "source": [
    "## Q5.Create a function that validates whether three given integers form a Pythagorean triplet.\n",
    "\n",
    "def is_triplet(a, b, c):\n",
    "    sorted_nums = sorted([a, b, c])\n",
    "    return sorted_nums[0]**2 + sorted_nums[1]**2 == sorted_nums[2]**2\n",
    "\n",
    "# Examples\n",
    "print(is_triplet(3, 4, 5))\n",
    "\n",
    "print(is_triplet(13, 5, 12)) \n",
    "\n",
    "print(is_triplet(1, 2, 3) )\n",
    "\n"
   ]
  },
  {
   "cell_type": "code",
   "execution_count": null,
   "metadata": {},
   "outputs": [],
   "source": []
  },
  {
   "cell_type": "code",
   "execution_count": null,
   "metadata": {},
   "outputs": [],
   "source": []
  },
  {
   "cell_type": "code",
   "execution_count": null,
   "metadata": {},
   "outputs": [],
   "source": []
  }
 ],
 "metadata": {
  "kernelspec": {
   "display_name": "Python 3",
   "language": "python",
   "name": "python3"
  },
  "language_info": {
   "codemirror_mode": {
    "name": "ipython",
    "version": 3
   },
   "file_extension": ".py",
   "mimetype": "text/x-python",
   "name": "python",
   "nbconvert_exporter": "python",
   "pygments_lexer": "ipython3",
   "version": "3.6.5"
  }
 },
 "nbformat": 4,
 "nbformat_minor": 2
}
