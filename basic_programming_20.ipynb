{
 "cells": [
  {
   "cell_type": "code",
   "execution_count": 1,
   "metadata": {},
   "outputs": [
    {
     "name": "stdout",
     "output_type": "stream",
     "text": [
      "[1, 2, 3, 4]\n",
      "[0, 1729]\n",
      "[]\n"
     ]
    }
   ],
   "source": [
    "## Q1.Create a function that takes a list of strings and integers, \n",
    "     #and filters out the list so that it returns a list of integers only.\n",
    "\n",
    "def filter_list(lst):\n",
    "    return [x for x in lst if type(x) == int]\n",
    "\n",
    "#Examples\n",
    "print(filter_list([1, 2, 3, \"a\", \"b\", 4])) \n",
    "print(filter_list([\"A\", 0, \"Edabit\", 1729, \"Python\", \"1729\"]))\n",
    "print(filter_list([\"Nothing\", \"here\"])) \n"
   ]
  },
  {
   "cell_type": "code",
   "execution_count": 2,
   "metadata": {},
   "outputs": [
    {
     "name": "stdout",
     "output_type": "stream",
     "text": [
      "[0, 1, 2, 3, 4]\n",
      "[1, 3, 5, 7, 9]\n",
      "[5, 5, 5, 5, 5]\n"
     ]
    }
   ],
   "source": [
    "## Q2.Given a list of numbers, create a function which returns the list \n",
    "     #but with each element's index in the list added to itself. \n",
    "\n",
    "def add_indexes(lst):\n",
    "    return [i+lst[i] for i in range(len(lst))]\n",
    "\n",
    "\n",
    "#Examples\n",
    "print(add_indexes([0, 0, 0, 0, 0])) \n",
    "print(add_indexes([1, 2, 3, 4, 5])) \n",
    "print(add_indexes([5, 4, 3, 2, 1]))\n"
   ]
  },
  {
   "cell_type": "code",
   "execution_count": 3,
   "metadata": {},
   "outputs": [
    {
     "name": "stdout",
     "output_type": "stream",
     "text": [
      "12.57\n",
      "565.49\n",
      "0.0\n"
     ]
    }
   ],
   "source": [
    "## Q3.\n",
    "\n",
    "import math\n",
    "\n",
    "def cone_volume(height, radius):\n",
    "    volume = (math.pi * radius ** 2 * height) / 3\n",
    "    return round(volume, 2)\n",
    "\n",
    "#Examples\n",
    "print(cone_volume(3, 2))\n",
    "print(cone_volume(15, 6)) \n",
    "print(cone_volume(18, 0)) \n"
   ]
  },
  {
   "cell_type": "code",
   "execution_count": 4,
   "metadata": {},
   "outputs": [
    {
     "name": "stdout",
     "output_type": "stream",
     "text": [
      "1\n",
      "21\n",
      "23220\n"
     ]
    }
   ],
   "source": [
    "## Q4.\n",
    "\n",
    "def triangle(n):\n",
    "    return sum(range(1, n+1))\n",
    "\n",
    "#Example\n",
    "print(triangle(1)) \n",
    "print(triangle(6)) \n",
    "print(triangle(215)) \n"
   ]
  },
  {
   "cell_type": "code",
   "execution_count": 5,
   "metadata": {},
   "outputs": [
    {
     "name": "stdout",
     "output_type": "stream",
     "text": [
      "5\n",
      "10\n",
      "7\n"
     ]
    }
   ],
   "source": [
    "## Q5.Create a function that takes a list of numbers between 1 and 10 (excluding one number) and returns the missing number.\n",
    "\n",
    "def missing_num(lst):\n",
    "    return sum(range(1, 11)) - sum(lst)\n",
    "\n",
    "#Example\n",
    "print(missing_num([1, 2, 3, 4, 6, 7, 8, 9, 10])) \n",
    "print(missing_num([7, 2, 3, 6, 5, 9, 1, 4, 8])) \n",
    "print(missing_num([10, 5, 1, 2, 4, 6, 8, 3, 9])) \n"
   ]
  },
  {
   "cell_type": "code",
   "execution_count": null,
   "metadata": {},
   "outputs": [],
   "source": []
  },
  {
   "cell_type": "code",
   "execution_count": null,
   "metadata": {},
   "outputs": [],
   "source": []
  },
  {
   "cell_type": "code",
   "execution_count": null,
   "metadata": {},
   "outputs": [],
   "source": []
  }
 ],
 "metadata": {
  "kernelspec": {
   "display_name": "Python 3",
   "language": "python",
   "name": "python3"
  },
  "language_info": {
   "codemirror_mode": {
    "name": "ipython",
    "version": 3
   },
   "file_extension": ".py",
   "mimetype": "text/x-python",
   "name": "python",
   "nbconvert_exporter": "python",
   "pygments_lexer": "ipython3",
   "version": "3.6.5"
  }
 },
 "nbformat": 4,
 "nbformat_minor": 2
}
